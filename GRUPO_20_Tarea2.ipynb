{
 "cells": [
  {
   "cell_type": "markdown",
   "metadata": {},
   "source": [
    "# Tarea 2"
   ]
  },
  {
   "cell_type": "code",
   "execution_count": 1,
   "metadata": {
    "id": "EavkuzfT-t3_"
   },
   "outputs": [],
   "source": [
    "import pandas as pd\n"
   ]
  },
  {
   "cell_type": "code",
   "execution_count": 2,
   "metadata": {
    "colab": {
     "base_uri": "https://localhost:8080/",
     "height": 363
    },
    "id": "-qavX5ZBC0Pr",
    "outputId": "c317c26f-4a4e-4243-ff9c-320864c4b76a"
   },
   "outputs": [
    {
     "data": {
      "text/html": [
       "<div>\n",
       "<style scoped>\n",
       "    .dataframe tbody tr th:only-of-type {\n",
       "        vertical-align: middle;\n",
       "    }\n",
       "\n",
       "    .dataframe tbody tr th {\n",
       "        vertical-align: top;\n",
       "    }\n",
       "\n",
       "    .dataframe thead th {\n",
       "        text-align: right;\n",
       "    }\n",
       "</style>\n",
       "<table border=\"1\" class=\"dataframe\">\n",
       "  <thead>\n",
       "    <tr style=\"text-align: right;\">\n",
       "      <th></th>\n",
       "      <th>𝑪𝒊𝒖𝒅𝒂𝒅</th>\n",
       "      <th>𝑯𝒂𝒃𝒊𝒕𝒂𝒏𝒕𝒆𝒔</th>\n",
       "      <th>𝑨𝒓𝒆𝒂_𝒌𝒎𝟐</th>\n",
       "      <th>𝑨𝒍𝒕𝒊𝒕𝒖𝒅_𝒎</th>\n",
       "      <th>𝑫𝒆𝒏𝒔𝒊𝒅𝒂𝒅_𝒑𝒐𝒃𝒍𝒂𝒄𝒊𝒐𝒏_𝒑𝒐𝒓_𝒌𝒎𝟐</th>\n",
       "    </tr>\n",
       "  </thead>\n",
       "  <tbody>\n",
       "    <tr>\n",
       "      <th>0</th>\n",
       "      <td>Lima</td>\n",
       "      <td>1047996</td>\n",
       "      <td>2672.28</td>\n",
       "      <td>154</td>\n",
       "      <td>3924.0</td>\n",
       "    </tr>\n",
       "    <tr>\n",
       "      <th>1</th>\n",
       "      <td>Arequipa</td>\n",
       "      <td>100169</td>\n",
       "      <td>1545.77</td>\n",
       "      <td>2325</td>\n",
       "      <td>64.8</td>\n",
       "    </tr>\n",
       "    <tr>\n",
       "      <th>2</th>\n",
       "      <td>Trujillo</td>\n",
       "      <td>92331</td>\n",
       "      <td>1487.70</td>\n",
       "      <td>34</td>\n",
       "      <td>62.1</td>\n",
       "    </tr>\n",
       "    <tr>\n",
       "      <th>3</th>\n",
       "      <td>Cusco</td>\n",
       "      <td>428450</td>\n",
       "      <td>116.50</td>\n",
       "      <td>3399</td>\n",
       "      <td>3673.0</td>\n",
       "    </tr>\n",
       "    <tr>\n",
       "      <th>4</th>\n",
       "      <td>Chiclayo</td>\n",
       "      <td>305717</td>\n",
       "      <td>279.89</td>\n",
       "      <td>29</td>\n",
       "      <td>1091.6</td>\n",
       "    </tr>\n",
       "    <tr>\n",
       "      <th>5</th>\n",
       "      <td>Piura</td>\n",
       "      <td>383375</td>\n",
       "      <td>6217.26</td>\n",
       "      <td>29</td>\n",
       "      <td>77.9</td>\n",
       "    </tr>\n",
       "    <tr>\n",
       "      <th>6</th>\n",
       "      <td>iquitos</td>\n",
       "      <td>441649</td>\n",
       "      <td>368.90</td>\n",
       "      <td>106</td>\n",
       "      <td>1196.0</td>\n",
       "    </tr>\n",
       "    <tr>\n",
       "      <th>7</th>\n",
       "      <td>Huancayo</td>\n",
       "      <td>385098</td>\n",
       "      <td>109.19</td>\n",
       "      <td>3271</td>\n",
       "      <td>3528.6</td>\n",
       "    </tr>\n",
       "    <tr>\n",
       "      <th>8</th>\n",
       "      <td>Tacna</td>\n",
       "      <td>294395</td>\n",
       "      <td>59.40</td>\n",
       "      <td>562</td>\n",
       "      <td>4966.0</td>\n",
       "    </tr>\n",
       "    <tr>\n",
       "      <th>9</th>\n",
       "      <td>Pucallpa</td>\n",
       "      <td>283734</td>\n",
       "      <td>483.44</td>\n",
       "      <td>156</td>\n",
       "      <td>587.2</td>\n",
       "    </tr>\n",
       "  </tbody>\n",
       "</table>\n",
       "</div>"
      ],
      "text/plain": [
       "     𝑪𝒊𝒖𝒅𝒂𝒅  𝑯𝒂𝒃𝒊𝒕𝒂𝒏𝒕𝒆𝒔  𝑨𝒓𝒆𝒂_𝒌𝒎𝟐  𝑨𝒍𝒕𝒊𝒕𝒖𝒅_𝒎  𝑫𝒆𝒏𝒔𝒊𝒅𝒂𝒅_𝒑𝒐𝒃𝒍𝒂𝒄𝒊𝒐𝒏_𝒑𝒐𝒓_𝒌𝒎𝟐\n",
       "0      Lima     1047996   2672.28        154                      3924.0\n",
       "1  Arequipa      100169   1545.77       2325                        64.8\n",
       "2  Trujillo       92331   1487.70         34                        62.1\n",
       "3     Cusco      428450    116.50       3399                      3673.0\n",
       "4  Chiclayo      305717    279.89         29                      1091.6\n",
       "5     Piura      383375   6217.26         29                        77.9\n",
       "6   iquitos      441649    368.90        106                      1196.0\n",
       "7  Huancayo      385098    109.19       3271                      3528.6\n",
       "8     Tacna      294395     59.40        562                      4966.0\n",
       "9  Pucallpa      283734    483.44        156                       587.2"
      ]
     },
     "execution_count": 2,
     "metadata": {},
     "output_type": "execute_result"
    }
   ],
   "source": [
    "data_ciudades = {\n",
    "    '𝑪𝒊𝒖𝒅𝒂𝒅':['Lima', 'Arequipa', 'Trujillo', 'Cusco', 'Chiclayo', 'Piura', 'iquitos', 'Huancayo', 'Tacna', 'Pucallpa'],\n",
    "                    '𝑯𝒂𝒃𝒊𝒕𝒂𝒏𝒕𝒆𝒔': [1047996,100169,92331,428450,305717,383375,441649,385098,294395,283734 ],\n",
    "    '𝑨𝒓𝒆𝒂_𝒌𝒎𝟐': [2672.28,1545.77,1487.7,116.5,279.89,6217.26,368.9,109.19,59.4,483.44],\n",
    "    '𝑨𝒍𝒕𝒊𝒕𝒖𝒅_𝒎': [154,2325,34,3399,29,29,106,3271,562,156],\n",
    "    '𝑫𝒆𝒏𝒔𝒊𝒅𝒂𝒅_𝒑𝒐𝒃𝒍𝒂𝒄𝒊𝒐𝒏_𝒑𝒐𝒓_𝒌𝒎𝟐': [3924,64.8,62.1,3673,1091.6,77.9,1196,3528.6,4966,587.2]\n",
    "    }\n",
    "nfo= pd.DataFrame(data_ciudades)\n",
    "nfo"
   ]
  },
  {
   "cell_type": "code",
   "execution_count": 3,
   "metadata": {
    "colab": {
     "base_uri": "https://localhost:8080/",
     "height": 363
    },
    "id": "DwwVh00DHECD",
    "outputId": "2bc0139e-ac5b-4e6f-d912-c1dbf1327f6d"
   },
   "outputs": [
    {
     "data": {
      "text/html": [
       "<div>\n",
       "<style scoped>\n",
       "    .dataframe tbody tr th:only-of-type {\n",
       "        vertical-align: middle;\n",
       "    }\n",
       "\n",
       "    .dataframe tbody tr th {\n",
       "        vertical-align: top;\n",
       "    }\n",
       "\n",
       "    .dataframe thead th {\n",
       "        text-align: right;\n",
       "    }\n",
       "</style>\n",
       "<table border=\"1\" class=\"dataframe\">\n",
       "  <thead>\n",
       "    <tr style=\"text-align: right;\">\n",
       "      <th></th>\n",
       "      <th>𝑪𝒊𝒖𝒅𝒂𝒅</th>\n",
       "      <th>𝑮𝒆𝒏𝒕𝒊𝒍𝒊𝒄𝒊𝒐</th>\n",
       "      <th>𝑷𝒓𝒐𝒗𝒊𝒏𝒄𝒊𝒂</th>\n",
       "      <th>𝑹𝒆𝒈𝒊𝒐𝒏</th>\n",
       "    </tr>\n",
       "  </thead>\n",
       "  <tbody>\n",
       "    <tr>\n",
       "      <th>0</th>\n",
       "      <td>Lima</td>\n",
       "      <td>Limense</td>\n",
       "      <td>𝑳𝒊𝒎𝒂</td>\n",
       "      <td>𝑳𝒊𝒎𝒂</td>\n",
       "    </tr>\n",
       "    <tr>\n",
       "      <th>1</th>\n",
       "      <td>Arequipa</td>\n",
       "      <td>Arequipeño</td>\n",
       "      <td>𝑨𝒓𝒆𝒒𝒖𝒊𝒑𝒂</td>\n",
       "      <td>𝑨𝒓𝒆𝒒𝒖𝒊𝒑𝒂</td>\n",
       "    </tr>\n",
       "    <tr>\n",
       "      <th>2</th>\n",
       "      <td>Trujillo</td>\n",
       "      <td>𝑻𝒓𝒖𝒋𝒊𝒍𝒍𝒂𝒏𝒐</td>\n",
       "      <td>𝑻𝒓𝒖𝒋𝒊𝒍𝒍𝒐</td>\n",
       "      <td>𝑳𝒂 𝑳𝒊𝒃𝒆𝒓𝒕𝒂𝒅</td>\n",
       "    </tr>\n",
       "    <tr>\n",
       "      <th>3</th>\n",
       "      <td>Cusco</td>\n",
       "      <td>𝑪𝒖𝒔𝒒𝒖𝒆ñ𝒐</td>\n",
       "      <td>𝑪𝒖𝒔𝒄𝒐</td>\n",
       "      <td>𝑪𝒖𝒔𝒄𝒐</td>\n",
       "    </tr>\n",
       "    <tr>\n",
       "      <th>4</th>\n",
       "      <td>Chiclayo</td>\n",
       "      <td>𝑪𝒉𝒊𝒄𝒍𝒂𝒚𝒂𝒏𝒐</td>\n",
       "      <td>𝑪𝒉𝒊𝒄𝒍𝒂𝒚𝒐</td>\n",
       "      <td>𝑳𝒂𝒎𝒃𝒂𝒚𝒆𝒒𝒖𝒆</td>\n",
       "    </tr>\n",
       "    <tr>\n",
       "      <th>5</th>\n",
       "      <td>Piura</td>\n",
       "      <td>𝑷𝒊𝒖𝒓𝒂𝒏𝒐</td>\n",
       "      <td>𝑷𝒊𝒖𝒓𝒂</td>\n",
       "      <td>𝑷𝒊𝒖𝒓𝒂</td>\n",
       "    </tr>\n",
       "    <tr>\n",
       "      <th>6</th>\n",
       "      <td>iquitos</td>\n",
       "      <td>𝑰𝒒𝒖𝒊𝒕eñ𝒐</td>\n",
       "      <td>𝑴𝒂𝒚𝒏𝒂𝒔</td>\n",
       "      <td>𝑳𝒐𝒓𝒆𝒕𝒐</td>\n",
       "    </tr>\n",
       "    <tr>\n",
       "      <th>7</th>\n",
       "      <td>Huancayo</td>\n",
       "      <td>𝑯𝒖𝒂𝒏caino</td>\n",
       "      <td>𝑯𝒖𝒂𝒏𝒄𝒂𝒚𝒐</td>\n",
       "      <td>𝑱𝒖𝒏í𝒏</td>\n",
       "    </tr>\n",
       "    <tr>\n",
       "      <th>8</th>\n",
       "      <td>tacna</td>\n",
       "      <td>Tacneño</td>\n",
       "      <td>𝑻𝒂𝒄𝒏𝒂</td>\n",
       "      <td>𝑻𝒂𝒄𝒏𝒂</td>\n",
       "    </tr>\n",
       "    <tr>\n",
       "      <th>9</th>\n",
       "      <td>Pucallpa</td>\n",
       "      <td>Pucallpino</td>\n",
       "      <td>Coronel Portillo</td>\n",
       "      <td>𝑼𝒄𝒂𝒚ali</td>\n",
       "    </tr>\n",
       "  </tbody>\n",
       "</table>\n",
       "</div>"
      ],
      "text/plain": [
       "     𝑪𝒊𝒖𝒅𝒂𝒅  𝑮𝒆𝒏𝒕𝒊𝒍𝒊𝒄𝒊𝒐         𝑷𝒓𝒐𝒗𝒊𝒏𝒄𝒊𝒂       𝑹𝒆𝒈𝒊𝒐𝒏\n",
       "0      Lima     Limense              𝑳𝒊𝒎𝒂         𝑳𝒊𝒎𝒂\n",
       "1  Arequipa  Arequipeño          𝑨𝒓𝒆𝒒𝒖𝒊𝒑𝒂     𝑨𝒓𝒆𝒒𝒖𝒊𝒑𝒂\n",
       "2  Trujillo  𝑻𝒓𝒖𝒋𝒊𝒍𝒍𝒂𝒏𝒐          𝑻𝒓𝒖𝒋𝒊𝒍𝒍𝒐  𝑳𝒂 𝑳𝒊𝒃𝒆𝒓𝒕𝒂𝒅\n",
       "3     Cusco    𝑪𝒖𝒔𝒒𝒖𝒆ñ𝒐             𝑪𝒖𝒔𝒄𝒐        𝑪𝒖𝒔𝒄𝒐\n",
       "4  Chiclayo  𝑪𝒉𝒊𝒄𝒍𝒂𝒚𝒂𝒏𝒐          𝑪𝒉𝒊𝒄𝒍𝒂𝒚𝒐   𝑳𝒂𝒎𝒃𝒂𝒚𝒆𝒒𝒖𝒆\n",
       "5     Piura     𝑷𝒊𝒖𝒓𝒂𝒏𝒐             𝑷𝒊𝒖𝒓𝒂        𝑷𝒊𝒖𝒓𝒂\n",
       "6   iquitos    𝑰𝒒𝒖𝒊𝒕eñ𝒐            𝑴𝒂𝒚𝒏𝒂𝒔       𝑳𝒐𝒓𝒆𝒕𝒐\n",
       "7  Huancayo   𝑯𝒖𝒂𝒏caino          𝑯𝒖𝒂𝒏𝒄𝒂𝒚𝒐        𝑱𝒖𝒏í𝒏\n",
       "8     tacna     Tacneño             𝑻𝒂𝒄𝒏𝒂        𝑻𝒂𝒄𝒏𝒂\n",
       "9  Pucallpa  Pucallpino  Coronel Portillo      𝑼𝒄𝒂𝒚ali"
      ]
     },
     "execution_count": 3,
     "metadata": {},
     "output_type": "execute_result"
    }
   ],
   "source": [
    "data_ciudades_2= {\n",
    "    '𝑪𝒊𝒖𝒅𝒂𝒅': ['Lima', 'Arequipa', 'Trujillo', 'Cusco', 'Chiclayo', 'Piura', 'iquitos', 'Huancayo', 'tacna', 'Pucallpa'],\n",
    "    '𝑮𝒆𝒏𝒕𝒊𝒍𝒊𝒄𝒊𝒐':['Limense', 'Arequipeño', '𝑻𝒓𝒖𝒋𝒊𝒍𝒍𝒂𝒏𝒐', '𝑪𝒖𝒔𝒒𝒖𝒆ñ𝒐', '𝑪𝒉𝒊𝒄𝒍𝒂𝒚𝒂𝒏𝒐', '𝑷𝒊𝒖𝒓𝒂𝒏𝒐', '𝑰𝒒𝒖𝒊𝒕eñ𝒐', '𝑯𝒖𝒂𝒏caino','Tacneño','Pucallpino'],\n",
    "    '𝑷𝒓𝒐𝒗𝒊𝒏𝒄𝒊𝒂': ['𝑳𝒊𝒎𝒂', '𝑨𝒓𝒆𝒒𝒖𝒊𝒑𝒂', '𝑻𝒓𝒖𝒋𝒊𝒍𝒍𝒐', '𝑪𝒖𝒔𝒄𝒐', '𝑪𝒉𝒊𝒄𝒍𝒂𝒚𝒐', '𝑷𝒊𝒖𝒓𝒂', '𝑴𝒂𝒚𝒏𝒂𝒔', '𝑯𝒖𝒂𝒏𝒄𝒂𝒚𝒐', '𝑻𝒂𝒄𝒏𝒂','Coronel Portillo'],\n",
    "    '𝑹𝒆𝒈𝒊𝒐𝒏': ['𝑳𝒊𝒎𝒂', '𝑨𝒓𝒆𝒒𝒖𝒊𝒑𝒂', '𝑳𝒂 𝑳𝒊𝒃𝒆𝒓𝒕𝒂𝒅', '𝑪𝒖𝒔𝒄𝒐','𝑳𝒂𝒎𝒃𝒂𝒚𝒆𝒒𝒖𝒆','𝑷𝒊𝒖𝒓𝒂','𝑳𝒐𝒓𝒆𝒕𝒐','𝑱𝒖𝒏í𝒏','𝑻𝒂𝒄𝒏𝒂','𝑼𝒄𝒂𝒚ali']}\n",
    "\n",
    "nombres=pd.DataFrame(data_ciudades_2)\n",
    "nombres\n"
   ]
  },
  {
   "cell_type": "code",
   "execution_count": 4,
   "metadata": {
    "colab": {
     "base_uri": "https://localhost:8080/",
     "height": 331
    },
    "id": "Nmm0P_NSJfFI",
    "outputId": "689e03cc-8aa5-495c-c446-38cc936fe7f9"
   },
   "outputs": [
    {
     "data": {
      "text/html": [
       "<div>\n",
       "<style scoped>\n",
       "    .dataframe tbody tr th:only-of-type {\n",
       "        vertical-align: middle;\n",
       "    }\n",
       "\n",
       "    .dataframe tbody tr th {\n",
       "        vertical-align: top;\n",
       "    }\n",
       "\n",
       "    .dataframe thead th {\n",
       "        text-align: right;\n",
       "    }\n",
       "</style>\n",
       "<table border=\"1\" class=\"dataframe\">\n",
       "  <thead>\n",
       "    <tr style=\"text-align: right;\">\n",
       "      <th></th>\n",
       "      <th>𝑪𝒊𝒖𝒅𝒂𝒅</th>\n",
       "      <th>𝑯𝒂𝒃𝒊𝒕𝒂𝒏𝒕𝒆𝒔</th>\n",
       "      <th>𝑨𝒓𝒆𝒂_𝒌𝒎𝟐</th>\n",
       "      <th>𝑨𝒍𝒕𝒊𝒕𝒖𝒅_𝒎</th>\n",
       "      <th>𝑫𝒆𝒏𝒔𝒊𝒅𝒂𝒅_𝒑𝒐𝒃𝒍𝒂𝒄𝒊𝒐𝒏_𝒑𝒐𝒓_𝒌𝒎𝟐</th>\n",
       "      <th>𝑮𝒆𝒏𝒕𝒊𝒍𝒊𝒄𝒊𝒐</th>\n",
       "      <th>𝑷𝒓𝒐𝒗𝒊𝒏𝒄𝒊𝒂</th>\n",
       "      <th>𝑹𝒆𝒈𝒊𝒐𝒏</th>\n",
       "    </tr>\n",
       "  </thead>\n",
       "  <tbody>\n",
       "    <tr>\n",
       "      <th>0</th>\n",
       "      <td>Lima</td>\n",
       "      <td>1047996</td>\n",
       "      <td>2672.28</td>\n",
       "      <td>154</td>\n",
       "      <td>3924.0</td>\n",
       "      <td>Limense</td>\n",
       "      <td>𝑳𝒊𝒎𝒂</td>\n",
       "      <td>𝑳𝒊𝒎𝒂</td>\n",
       "    </tr>\n",
       "    <tr>\n",
       "      <th>1</th>\n",
       "      <td>Arequipa</td>\n",
       "      <td>100169</td>\n",
       "      <td>1545.77</td>\n",
       "      <td>2325</td>\n",
       "      <td>64.8</td>\n",
       "      <td>Arequipeño</td>\n",
       "      <td>𝑨𝒓𝒆𝒒𝒖𝒊𝒑𝒂</td>\n",
       "      <td>𝑨𝒓𝒆𝒒𝒖𝒊𝒑𝒂</td>\n",
       "    </tr>\n",
       "    <tr>\n",
       "      <th>2</th>\n",
       "      <td>Trujillo</td>\n",
       "      <td>92331</td>\n",
       "      <td>1487.70</td>\n",
       "      <td>34</td>\n",
       "      <td>62.1</td>\n",
       "      <td>𝑻𝒓𝒖𝒋𝒊𝒍𝒍𝒂𝒏𝒐</td>\n",
       "      <td>𝑻𝒓𝒖𝒋𝒊𝒍𝒍𝒐</td>\n",
       "      <td>𝑳𝒂 𝑳𝒊𝒃𝒆𝒓𝒕𝒂𝒅</td>\n",
       "    </tr>\n",
       "    <tr>\n",
       "      <th>3</th>\n",
       "      <td>Cusco</td>\n",
       "      <td>428450</td>\n",
       "      <td>116.50</td>\n",
       "      <td>3399</td>\n",
       "      <td>3673.0</td>\n",
       "      <td>𝑪𝒖𝒔𝒒𝒖𝒆ñ𝒐</td>\n",
       "      <td>𝑪𝒖𝒔𝒄𝒐</td>\n",
       "      <td>𝑪𝒖𝒔𝒄𝒐</td>\n",
       "    </tr>\n",
       "    <tr>\n",
       "      <th>4</th>\n",
       "      <td>Chiclayo</td>\n",
       "      <td>305717</td>\n",
       "      <td>279.89</td>\n",
       "      <td>29</td>\n",
       "      <td>1091.6</td>\n",
       "      <td>𝑪𝒉𝒊𝒄𝒍𝒂𝒚𝒂𝒏𝒐</td>\n",
       "      <td>𝑪𝒉𝒊𝒄𝒍𝒂𝒚𝒐</td>\n",
       "      <td>𝑳𝒂𝒎𝒃𝒂𝒚𝒆𝒒𝒖𝒆</td>\n",
       "    </tr>\n",
       "    <tr>\n",
       "      <th>5</th>\n",
       "      <td>Piura</td>\n",
       "      <td>383375</td>\n",
       "      <td>6217.26</td>\n",
       "      <td>29</td>\n",
       "      <td>77.9</td>\n",
       "      <td>𝑷𝒊𝒖𝒓𝒂𝒏𝒐</td>\n",
       "      <td>𝑷𝒊𝒖𝒓𝒂</td>\n",
       "      <td>𝑷𝒊𝒖𝒓𝒂</td>\n",
       "    </tr>\n",
       "    <tr>\n",
       "      <th>6</th>\n",
       "      <td>iquitos</td>\n",
       "      <td>441649</td>\n",
       "      <td>368.90</td>\n",
       "      <td>106</td>\n",
       "      <td>1196.0</td>\n",
       "      <td>𝑰𝒒𝒖𝒊𝒕eñ𝒐</td>\n",
       "      <td>𝑴𝒂𝒚𝒏𝒂𝒔</td>\n",
       "      <td>𝑳𝒐𝒓𝒆𝒕𝒐</td>\n",
       "    </tr>\n",
       "    <tr>\n",
       "      <th>7</th>\n",
       "      <td>Huancayo</td>\n",
       "      <td>385098</td>\n",
       "      <td>109.19</td>\n",
       "      <td>3271</td>\n",
       "      <td>3528.6</td>\n",
       "      <td>𝑯𝒖𝒂𝒏caino</td>\n",
       "      <td>𝑯𝒖𝒂𝒏𝒄𝒂𝒚𝒐</td>\n",
       "      <td>𝑱𝒖𝒏í𝒏</td>\n",
       "    </tr>\n",
       "    <tr>\n",
       "      <th>8</th>\n",
       "      <td>Pucallpa</td>\n",
       "      <td>283734</td>\n",
       "      <td>483.44</td>\n",
       "      <td>156</td>\n",
       "      <td>587.2</td>\n",
       "      <td>Pucallpino</td>\n",
       "      <td>Coronel Portillo</td>\n",
       "      <td>𝑼𝒄𝒂𝒚ali</td>\n",
       "    </tr>\n",
       "  </tbody>\n",
       "</table>\n",
       "</div>"
      ],
      "text/plain": [
       "     𝑪𝒊𝒖𝒅𝒂𝒅  𝑯𝒂𝒃𝒊𝒕𝒂𝒏𝒕𝒆𝒔  𝑨𝒓𝒆𝒂_𝒌𝒎𝟐  𝑨𝒍𝒕𝒊𝒕𝒖𝒅_𝒎  𝑫𝒆𝒏𝒔𝒊𝒅𝒂𝒅_𝒑𝒐𝒃𝒍𝒂𝒄𝒊𝒐𝒏_𝒑𝒐𝒓_𝒌𝒎𝟐  \\\n",
       "0      Lima     1047996   2672.28        154                      3924.0   \n",
       "1  Arequipa      100169   1545.77       2325                        64.8   \n",
       "2  Trujillo       92331   1487.70         34                        62.1   \n",
       "3     Cusco      428450    116.50       3399                      3673.0   \n",
       "4  Chiclayo      305717    279.89         29                      1091.6   \n",
       "5     Piura      383375   6217.26         29                        77.9   \n",
       "6   iquitos      441649    368.90        106                      1196.0   \n",
       "7  Huancayo      385098    109.19       3271                      3528.6   \n",
       "8  Pucallpa      283734    483.44        156                       587.2   \n",
       "\n",
       "   𝑮𝒆𝒏𝒕𝒊𝒍𝒊𝒄𝒊𝒐         𝑷𝒓𝒐𝒗𝒊𝒏𝒄𝒊𝒂       𝑹𝒆𝒈𝒊𝒐𝒏  \n",
       "0     Limense              𝑳𝒊𝒎𝒂         𝑳𝒊𝒎𝒂  \n",
       "1  Arequipeño          𝑨𝒓𝒆𝒒𝒖𝒊𝒑𝒂     𝑨𝒓𝒆𝒒𝒖𝒊𝒑𝒂  \n",
       "2  𝑻𝒓𝒖𝒋𝒊𝒍𝒍𝒂𝒏𝒐          𝑻𝒓𝒖𝒋𝒊𝒍𝒍𝒐  𝑳𝒂 𝑳𝒊𝒃𝒆𝒓𝒕𝒂𝒅  \n",
       "3    𝑪𝒖𝒔𝒒𝒖𝒆ñ𝒐             𝑪𝒖𝒔𝒄𝒐        𝑪𝒖𝒔𝒄𝒐  \n",
       "4  𝑪𝒉𝒊𝒄𝒍𝒂𝒚𝒂𝒏𝒐          𝑪𝒉𝒊𝒄𝒍𝒂𝒚𝒐   𝑳𝒂𝒎𝒃𝒂𝒚𝒆𝒒𝒖𝒆  \n",
       "5     𝑷𝒊𝒖𝒓𝒂𝒏𝒐             𝑷𝒊𝒖𝒓𝒂        𝑷𝒊𝒖𝒓𝒂  \n",
       "6    𝑰𝒒𝒖𝒊𝒕eñ𝒐            𝑴𝒂𝒚𝒏𝒂𝒔       𝑳𝒐𝒓𝒆𝒕𝒐  \n",
       "7   𝑯𝒖𝒂𝒏caino          𝑯𝒖𝒂𝒏𝒄𝒂𝒚𝒐        𝑱𝒖𝒏í𝒏  \n",
       "8  Pucallpino  Coronel Portillo      𝑼𝒄𝒂𝒚ali  "
      ]
     },
     "execution_count": 4,
     "metadata": {},
     "output_type": "execute_result"
    }
   ],
   "source": [
    "cuadro_1=pd.merge(nfo,nombres,on='𝑪𝒊𝒖𝒅𝒂𝒅',how='inner')\n",
    "cuadro_1"
   ]
  },
  {
   "cell_type": "code",
   "execution_count": 5,
   "metadata": {
    "colab": {
     "base_uri": "https://localhost:8080/",
     "height": 300
    },
    "id": "3iAdfzebLidJ",
    "outputId": "34055ebe-229e-439e-bb90-6e0b4da141d0"
   },
   "outputs": [
    {
     "data": {
      "text/html": [
       "<div>\n",
       "<style scoped>\n",
       "    .dataframe tbody tr th:only-of-type {\n",
       "        vertical-align: middle;\n",
       "    }\n",
       "\n",
       "    .dataframe tbody tr th {\n",
       "        vertical-align: top;\n",
       "    }\n",
       "\n",
       "    .dataframe thead th {\n",
       "        text-align: right;\n",
       "    }\n",
       "</style>\n",
       "<table border=\"1\" class=\"dataframe\">\n",
       "  <thead>\n",
       "    <tr style=\"text-align: right;\">\n",
       "      <th></th>\n",
       "      <th>𝑯𝒂𝒃𝒊𝒕𝒂𝒏𝒕𝒆𝒔</th>\n",
       "      <th>𝑨𝒓𝒆𝒂_𝒌𝒎𝟐</th>\n",
       "      <th>𝑨𝒍𝒕𝒊𝒕𝒖𝒅_𝒎</th>\n",
       "      <th>𝑫𝒆𝒏𝒔𝒊𝒅𝒂𝒅_𝒑𝒐𝒃𝒍𝒂𝒄𝒊𝒐𝒏_𝒑𝒐𝒓_𝒌𝒎𝟐</th>\n",
       "    </tr>\n",
       "  </thead>\n",
       "  <tbody>\n",
       "    <tr>\n",
       "      <th>count</th>\n",
       "      <td>9.000000e+00</td>\n",
       "      <td>9.000000</td>\n",
       "      <td>9.000000</td>\n",
       "      <td>9.000000</td>\n",
       "    </tr>\n",
       "    <tr>\n",
       "      <th>mean</th>\n",
       "      <td>3.853910e+05</td>\n",
       "      <td>1475.658889</td>\n",
       "      <td>1055.888889</td>\n",
       "      <td>1578.355556</td>\n",
       "    </tr>\n",
       "    <tr>\n",
       "      <th>std</th>\n",
       "      <td>2.801755e+05</td>\n",
       "      <td>1977.168766</td>\n",
       "      <td>1486.870913</td>\n",
       "      <td>1654.531689</td>\n",
       "    </tr>\n",
       "    <tr>\n",
       "      <th>min</th>\n",
       "      <td>9.233100e+04</td>\n",
       "      <td>109.190000</td>\n",
       "      <td>29.000000</td>\n",
       "      <td>62.100000</td>\n",
       "    </tr>\n",
       "    <tr>\n",
       "      <th>25%</th>\n",
       "      <td>2.837340e+05</td>\n",
       "      <td>279.890000</td>\n",
       "      <td>34.000000</td>\n",
       "      <td>77.900000</td>\n",
       "    </tr>\n",
       "    <tr>\n",
       "      <th>50%</th>\n",
       "      <td>3.833750e+05</td>\n",
       "      <td>483.440000</td>\n",
       "      <td>154.000000</td>\n",
       "      <td>1091.600000</td>\n",
       "    </tr>\n",
       "    <tr>\n",
       "      <th>75%</th>\n",
       "      <td>4.284500e+05</td>\n",
       "      <td>1545.770000</td>\n",
       "      <td>2325.000000</td>\n",
       "      <td>3528.600000</td>\n",
       "    </tr>\n",
       "    <tr>\n",
       "      <th>max</th>\n",
       "      <td>1.047996e+06</td>\n",
       "      <td>6217.260000</td>\n",
       "      <td>3399.000000</td>\n",
       "      <td>3924.000000</td>\n",
       "    </tr>\n",
       "  </tbody>\n",
       "</table>\n",
       "</div>"
      ],
      "text/plain": [
       "         𝑯𝒂𝒃𝒊𝒕𝒂𝒏𝒕𝒆𝒔     𝑨𝒓𝒆𝒂_𝒌𝒎𝟐    𝑨𝒍𝒕𝒊𝒕𝒖𝒅_𝒎  𝑫𝒆𝒏𝒔𝒊𝒅𝒂𝒅_𝒑𝒐𝒃𝒍𝒂𝒄𝒊𝒐𝒏_𝒑𝒐𝒓_𝒌𝒎𝟐\n",
       "count  9.000000e+00     9.000000     9.000000                    9.000000\n",
       "mean   3.853910e+05  1475.658889  1055.888889                 1578.355556\n",
       "std    2.801755e+05  1977.168766  1486.870913                 1654.531689\n",
       "min    9.233100e+04   109.190000    29.000000                   62.100000\n",
       "25%    2.837340e+05   279.890000    34.000000                   77.900000\n",
       "50%    3.833750e+05   483.440000   154.000000                 1091.600000\n",
       "75%    4.284500e+05  1545.770000  2325.000000                 3528.600000\n",
       "max    1.047996e+06  6217.260000  3399.000000                 3924.000000"
      ]
     },
     "execution_count": 5,
     "metadata": {},
     "output_type": "execute_result"
    }
   ],
   "source": [
    "cuadro_1.describe()"
   ]
  },
  {
   "cell_type": "code",
   "execution_count": 6,
   "metadata": {
    "colab": {
     "base_uri": "https://localhost:8080/",
     "height": 335
    },
    "id": "g__aK56QPQ2Z",
    "outputId": "09ec2145-b27b-43e7-d193-508a4b01d346"
   },
   "outputs": [
    {
     "data": {
      "text/plain": [
       "𝑪𝒊𝒖𝒅𝒂𝒅                           Trujillo\n",
       "𝑯𝒂𝒃𝒊𝒕𝒂𝒏𝒕𝒆𝒔                          92331\n",
       "𝑨𝒓𝒆𝒂_𝒌𝒎𝟐                           1487.7\n",
       "𝑨𝒍𝒕𝒊𝒕𝒖𝒅_𝒎                              34\n",
       "𝑫𝒆𝒏𝒔𝒊𝒅𝒂𝒅_𝒑𝒐𝒃𝒍𝒂𝒄𝒊𝒐𝒏_𝒑𝒐𝒓_𝒌𝒎𝟐           62.1\n",
       "𝑮𝒆𝒏𝒕𝒊𝒍𝒊𝒄𝒊𝒐                     𝑻𝒓𝒖𝒋𝒊𝒍𝒍𝒂𝒏𝒐\n",
       "𝑷𝒓𝒐𝒗𝒊𝒏𝒄𝒊𝒂                        𝑻𝒓𝒖𝒋𝒊𝒍𝒍𝒐\n",
       "𝑹𝒆𝒈𝒊𝒐𝒏                        𝑳𝒂 𝑳𝒊𝒃𝒆𝒓𝒕𝒂𝒅\n",
       "Name: 2, dtype: object"
      ]
     },
     "execution_count": 6,
     "metadata": {},
     "output_type": "execute_result"
    }
   ],
   "source": [
    "cuadro_1.loc[cuadro_1['𝑫𝒆𝒏𝒔𝒊𝒅𝒂𝒅_𝒑𝒐𝒃𝒍𝒂𝒄𝒊𝒐𝒏_𝒑𝒐𝒓_𝒌𝒎𝟐'].idxmin()]"
   ]
  },
  {
   "cell_type": "code",
   "execution_count": 7,
   "metadata": {
    "colab": {
     "base_uri": "https://localhost:8080/",
     "height": 335
    },
    "id": "fto6SXGvQBqJ",
    "outputId": "cb6175f4-0984-4ef2-9d12-40a3e2844f1b"
   },
   "outputs": [
    {
     "data": {
      "text/plain": [
       "𝑪𝒊𝒖𝒅𝒂𝒅                           Lima\n",
       "𝑯𝒂𝒃𝒊𝒕𝒂𝒏𝒕𝒆𝒔                    1047996\n",
       "𝑨𝒓𝒆𝒂_𝒌𝒎𝟐                      2672.28\n",
       "𝑨𝒍𝒕𝒊𝒕𝒖𝒅_𝒎                         154\n",
       "𝑫𝒆𝒏𝒔𝒊𝒅𝒂𝒅_𝒑𝒐𝒃𝒍𝒂𝒄𝒊𝒐𝒏_𝒑𝒐𝒓_𝒌𝒎𝟐     3924.0\n",
       "𝑮𝒆𝒏𝒕𝒊𝒍𝒊𝒄𝒊𝒐                    Limense\n",
       "𝑷𝒓𝒐𝒗𝒊𝒏𝒄𝒊𝒂                        𝑳𝒊𝒎𝒂\n",
       "𝑹𝒆𝒈𝒊𝒐𝒏                           𝑳𝒊𝒎𝒂\n",
       "Name: 0, dtype: object"
      ]
     },
     "execution_count": 7,
     "metadata": {},
     "output_type": "execute_result"
    }
   ],
   "source": [
    "cuadro_1.loc[cuadro_1['𝑫𝒆𝒏𝒔𝒊𝒅𝒂𝒅_𝒑𝒐𝒃𝒍𝒂𝒄𝒊𝒐𝒏_𝒑𝒐𝒓_𝒌𝒎𝟐'].idxmax()]"
   ]
  },
  {
   "cell_type": "code",
   "execution_count": 8,
   "metadata": {
    "id": "KHyOQWKlQ3y9"
   },
   "outputs": [],
   "source": [
    "import matplotlib.pyplot as plt"
   ]
  },
  {
   "cell_type": "code",
   "execution_count": 9,
   "metadata": {
    "colab": {
     "base_uri": "https://localhost:8080/",
     "height": 607
    },
    "id": "qXzGGqG7Q3mj",
    "outputId": "9803e8b9-c709-4ed9-9caa-63bcd1889cba"
   },
   "outputs": [
    {
     "data": {
      "image/png": "[encoded data removed]",
      "text/plain": [
       "<Figure size 1000x600 with 1 Axes>"
      ]
     },
     "metadata": {},
     "output_type": "display_data"
    }
   ],
   "source": [
    "# Gráfico de barras\n",
    "plt.figure(figsize=(10, 6))\n",
    "plt.bar(cuadro_1['𝑪𝒊𝒖𝒅𝒂𝒅'], cuadro_1['𝑯𝒂𝒃𝒊𝒕𝒂𝒏𝒕𝒆𝒔'], color='skyblue')\n",
    "\n",
    "# Agregar etiquetas y título\n",
    "plt.xlabel('Ciudad')\n",
    "plt.ylabel('Habitantes')\n",
    "plt.title('Cantidad de Habitantes por Ciudad')\n",
    "plt.xticks(rotation=45, ha='right')  # Rotar las etiquetas del eje x para mejor legibilidad\n",
    "\n",
    "# Mostrar el gráfico\n",
    "plt.tight_layout()  # Ajusta el espaciado para que las etiquetas no se corten\n",
    "plt.show()\n"
   ]
  },
  {
   "cell_type": "code",
   "execution_count": 10,
   "metadata": {
    "colab": {
     "base_uri": "https://localhost:8080/",
     "height": 565
    },
    "id": "gW25ZmvTQ3Yn",
    "outputId": "c20ce0d7-ba80-4876-905b-7c1ba5885f9c"
   },
   "outputs": [
    {
     "data": {
      "image/png": "[encoded data removed]",
      "text/plain": [
       "<Figure size 1000x600 with 1 Axes>"
      ]
     },
     "metadata": {},
     "output_type": "display_data"
    }
   ],
   "source": [
    "fig, ax = plt.subplots(figsize=(10, 6))\n",
    "ax.scatter(cuadro_1['𝑨𝒍𝒕𝒊𝒕𝒖𝒅_𝒎'], cuadro_1['𝑯𝒂𝒃𝒊𝒕𝒂𝒏𝒕𝒆𝒔'], color='green')\n",
    "ax.set_title('Relación entre altitud y número de habitantes de las ciudades del peru')\n",
    "ax.set_xlabel('Altitud(m)')\n",
    "ax.set_ylabel('Habitantes')\n",
    "plt.show()"
   ]
  }
 ],
 "metadata": {
  "colab": {
   "provenance": []
  },
  "kernelspec": {
   "display_name": "Python 3 (ipykernel)",
   "language": "python",
   "name": "python3"
  },
  "language_info": {
   "codemirror_mode": {
    "name": "ipython",
    "version": 3
   },
   "file_extension": ".py",
   "mimetype": "text/x-python",
   "name": "python",
   "nbconvert_exporter": "python",
   "pygments_lexer": "ipython3",
   "version": "3.11.7"
  }
 },
 "nbformat": 4,
 "nbformat_minor": 4
}
